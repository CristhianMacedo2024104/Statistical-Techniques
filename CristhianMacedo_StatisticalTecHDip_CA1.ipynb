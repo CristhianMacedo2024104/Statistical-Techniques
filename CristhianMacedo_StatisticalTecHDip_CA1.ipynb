{
 "cells": [
  {
   "cell_type": "markdown",
   "id": "563c90e5-57d2-4f01-a83a-dd8abf56a514",
   "metadata": {},
   "source": [
    "### CA1 – Statistical Techniques HDip\n",
    "#### Author: Cristhian Macedo - 2024104\n",
    "[GitHub Repository](https://github.com/CristhianMacedo2024104/Statistical-Techniques)"
   ]
  },
  {
   "cell_type": "markdown",
   "id": "44135b75-596c-43b0-8b23-361777060782",
   "metadata": {},
   "source": [
    "### 1.1 Importing libraries\n",
    "\n",
    "Importing the required libraries \"`pandas`\" to start the project.\n",
    "\n",
    "Also importing \"`numpy`\", \"`seaborn`\", \"`matplotlib.pyplot`\" and \"`sklearn.decomposition`\", in case it needs other libraries it will be imported when necessary it comes."
   ]
  },
  {
   "cell_type": "code",
   "execution_count": 1,
   "id": "1f3546f0-9339-4cd1-8b83-c2785e5b7f44",
   "metadata": {},
   "outputs": [],
   "source": [
    "import pandas as pd\n",
    "import numpy as np\n",
    "\n",
    "import seaborn as sns\n",
    "import matplotlib.pyplot as plt\n",
    "from sklearn.decomposition import PCA\n",
    "\n",
    "%matplotlib inline\n",
    "sns.set()"
   ]
  },
  {
   "cell_type": "markdown",
   "id": "159302e5-99a6-45c0-9236-d1d34740f07e",
   "metadata": {},
   "source": [
    "### 1.2\tLoading Data from a CSV File\n",
    "\n",
    "Loading the dataset using the function “`.read_csv`” to import the required data existing in the Comma-separated values \"`.csv`\" file in the `df` variable."
   ]
  },
  {
   "cell_type": "code",
   "execution_count": null,
   "id": "f23a0429-f510-4899-9099-22bf67387ac5",
   "metadata": {},
   "outputs": [],
   "source": [
    "df = pd.read_csv(\"\")"
   ]
  },
  {
   "cell_type": "markdown",
   "id": "2fca3ea1-a9b0-4ff4-a85d-5cc6831796cb",
   "metadata": {},
   "source": [
    "### 1.3\tInspecting the Data Set\n",
    "\n",
    "The first command useful to start understanding the data is “`.head()`” to check the first 5 observations as default and features contained in the data frame after loaded. \n",
    "\n",
    "This command was important and necessary to get the first impression of it, returning that this dataset has ** ** rows (observations) and ** ** columns (features)."
   ]
  },
  {
   "cell_type": "code",
   "execution_count": null,
   "id": "87b5d7de-83a8-4095-85ff-294d63f6fb8e",
   "metadata": {},
   "outputs": [],
   "source": []
  }
 ],
 "metadata": {
  "kernelspec": {
   "display_name": "Python 3 (ipykernel)",
   "language": "python",
   "name": "python3"
  },
  "language_info": {
   "codemirror_mode": {
    "name": "ipython",
    "version": 3
   },
   "file_extension": ".py",
   "mimetype": "text/x-python",
   "name": "python",
   "nbconvert_exporter": "python",
   "pygments_lexer": "ipython3",
   "version": "3.11.5"
  }
 },
 "nbformat": 4,
 "nbformat_minor": 5
}
